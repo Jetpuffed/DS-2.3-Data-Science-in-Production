{
 "metadata": {
  "language_info": {
   "codemirror_mode": {
    "name": "ipython",
    "version": 3
   },
   "file_extension": ".py",
   "mimetype": "text/x-python",
   "name": "python",
   "nbconvert_exporter": "python",
   "pygments_lexer": "ipython3",
   "version": "3.8.3-final"
  },
  "orig_nbformat": 2,
  "kernelspec": {
   "name": "Python 3.8.3 64-bit ('anaconda3': virtualenv)",
   "display_name": "Python 3.8.3 64-bit ('anaconda3': virtualenv)",
   "metadata": {
    "interpreter": {
     "hash": "c16dcee9e5b8a2ef4fecfe180465ee57f8149cf93d63e26fdc8b50ccb0db732e"
    }
   }
  }
 },
 "nbformat": 4,
 "nbformat_minor": 2,
 "cells": [
  {
   "cell_type": "code",
   "execution_count": 1,
   "metadata": {},
   "outputs": [],
   "source": [
    "from pyspark.sql import SparkSession\n",
    "from pyspark.ml import Pipeline\n",
    "from pyspark.ml.classification import LogisticRegression\n",
    "from pyspark.ml.feature import StringIndexer, OneHotEncoder, VectorAssembler\n",
    "from pyspark.sql.functions import *"
   ]
  },
  {
   "cell_type": "code",
   "execution_count": 2,
   "metadata": {},
   "outputs": [],
   "source": [
    "spark = SparkSession.builder.appName(\"DS 2.3 Final Project\").getOrCreate()"
   ]
  },
  {
   "cell_type": "code",
   "execution_count": 3,
   "metadata": {},
   "outputs": [],
   "source": [
    "df = spark.read.csv(\"titanic.csv\", header=True, inferSchema=True)\n",
    "df = df.na.drop()"
   ]
  },
  {
   "cell_type": "code",
   "execution_count": 4,
   "metadata": {
    "tags": []
   },
   "outputs": [
    {
     "output_type": "stream",
     "name": "stdout",
     "text": "+-----------+--------+------+--------------------+------+----+-----+-----+-----------+--------+-----------+--------+\n|PassengerId|Survived|Pclass|                Name|   Sex| Age|SibSp|Parch|     Ticket|    Fare|      Cabin|Embarked|\n+-----------+--------+------+--------------------+------+----+-----+-----+-----------+--------+-----------+--------+\n|          2|       1|     1|Cumings, Mrs. Joh...|female|38.0|    1|    0|   PC 17599| 71.2833|        C85|       C|\n|          4|       1|     1|Futrelle, Mrs. Ja...|female|35.0|    1|    0|     113803|    53.1|       C123|       S|\n|          7|       0|     1|McCarthy, Mr. Tim...|  male|54.0|    0|    0|      17463| 51.8625|        E46|       S|\n|         11|       1|     3|Sandstrom, Miss. ...|female| 4.0|    1|    1|    PP 9549|    16.7|         G6|       S|\n|         12|       1|     1|Bonnell, Miss. El...|female|58.0|    0|    0|     113783|   26.55|       C103|       S|\n|         22|       1|     2|Beesley, Mr. Lawr...|  male|34.0|    0|    0|     248698|    13.0|        D56|       S|\n|         24|       1|     1|Sloper, Mr. Willi...|  male|28.0|    0|    0|     113788|    35.5|         A6|       S|\n|         28|       0|     1|Fortune, Mr. Char...|  male|19.0|    3|    2|      19950|   263.0|C23 C25 C27|       S|\n|         53|       1|     1|Harper, Mrs. Henr...|female|49.0|    1|    0|   PC 17572| 76.7292|        D33|       C|\n|         55|       0|     1|Ostby, Mr. Engelh...|  male|65.0|    0|    1|     113509| 61.9792|        B30|       C|\n|         63|       0|     1|Harris, Mr. Henry...|  male|45.0|    1|    0|      36973|  83.475|        C83|       S|\n|         67|       1|     2|Nye, Mrs. (Elizab...|female|29.0|    0|    0| C.A. 29395|    10.5|        F33|       S|\n|         76|       0|     3|Moen, Mr. Sigurd ...|  male|25.0|    0|    0|     348123|    7.65|      F G73|       S|\n|         89|       1|     1|Fortune, Miss. Ma...|female|23.0|    3|    2|      19950|   263.0|C23 C25 C27|       S|\n|         93|       0|     1|Chaffee, Mr. Herb...|  male|46.0|    1|    0|W.E.P. 5734|  61.175|        E31|       S|\n|         97|       0|     1|Goldschmidt, Mr. ...|  male|71.0|    0|    0|   PC 17754| 34.6542|         A5|       C|\n|         98|       1|     1|Greenfield, Mr. W...|  male|23.0|    0|    1|   PC 17759| 63.3583|    D10 D12|       C|\n|        103|       0|     1|White, Mr. Richar...|  male|21.0|    0|    1|      35281| 77.2875|        D26|       S|\n|        111|       0|     1|Porter, Mr. Walte...|  male|47.0|    0|    0|     110465|    52.0|       C110|       S|\n|        119|       0|     1|Baxter, Mr. Quigg...|  male|24.0|    0|    1|   PC 17558|247.5208|    B58 B60|       C|\n+-----------+--------+------+--------------------+------+----+-----+-----+-----------+--------+-----------+--------+\nonly showing top 20 rows\n\n"
    }
   ],
   "source": [
    "df.show()"
   ]
  },
  {
   "cell_type": "code",
   "execution_count": 5,
   "metadata": {
    "tags": []
   },
   "outputs": [
    {
     "output_type": "stream",
     "name": "stdout",
     "text": "root\n |-- PassengerId: integer (nullable = true)\n |-- Survived: integer (nullable = true)\n |-- Pclass: integer (nullable = true)\n |-- Name: string (nullable = true)\n |-- Sex: string (nullable = true)\n |-- Age: double (nullable = true)\n |-- SibSp: integer (nullable = true)\n |-- Parch: integer (nullable = true)\n |-- Ticket: string (nullable = true)\n |-- Fare: double (nullable = true)\n |-- Cabin: string (nullable = true)\n |-- Embarked: string (nullable = true)\n\n"
    }
   ],
   "source": [
    "df.printSchema()"
   ]
  },
  {
   "cell_type": "code",
   "execution_count": 6,
   "metadata": {},
   "outputs": [],
   "source": [
    "df = df.select(col(\"Survived\"), col(\"Pclass\").cast(\"float\"), col(\"Sex\"), col(\"Age\").cast(\"float\"), col(\"SibSp\").cast(\"float\"), col(\"Fare\").cast(\"float\"), col(\"Embarked\"))"
   ]
  },
  {
   "cell_type": "code",
   "execution_count": 7,
   "metadata": {},
   "outputs": [],
   "source": [
    "train_data, test_data = df.randomSplit([0.7, 0.3])"
   ]
  },
  {
   "cell_type": "code",
   "execution_count": 8,
   "metadata": {
    "tags": []
   },
   "outputs": [],
   "source": [
    "indexer = StringIndexer(inputCols=[\"Survived\", \"Sex\", \"Embarked\"], outputCols=[\"Survived_i\", \"Sex_i\", \"Embarked_i\"])\n",
    "encoder = OneHotEncoder(inputCols=[\"Sex_i\", \"Embarked_i\"], outputCols=[\"Sex_v\", \"Embarked_v\"])\n",
    "assembler = VectorAssembler(inputCols=[\"Pclass\", \"Sex_v\", \"Age\", \"SibSp\", \"Fare\", \"Embarked_v\"], outputCol=\"features\")\n",
    " \n",
    "pipeline = Pipeline(stages=[indexer, encoder, assembler])\n",
    "model = pipeline.fit(train_data)\n",
    "predict = model.transform(test_data)\n",
    "predict.select(\"features\", \"Survived\")\n",
    "\n",
    "log_reg = LogisticRegression(featuresCol=\"features\", labelCol=\"Survived\", maxIter=10)\n",
    "log_reg_model = log_reg.fit(predict)"
   ]
  },
  {
   "cell_type": "code",
   "execution_count": 9,
   "metadata": {
    "tags": []
   },
   "outputs": [
    {
     "output_type": "stream",
     "name": "stdout",
     "text": "\nPrecision (Positive Predictive Value): 0.7911635148477254\n\nRecall (True Positive Rate): 0.7936507936507937\n\nF-measure: 0.7921912059843095\n\nArea Under ROC Curve: 0.897674418604651\n\nCoefficients: [-2.997003035927543,4.97410161601156,-0.10211241654689895,0.016533331275285428,-0.0041760776284109555,4.488084408150434,5.425050932867806]\n\nIntercept: 2.5853567694179147\n"
    }
   ],
   "source": [
    "print(\"\\nPrecision (Positive Predictive Value): {}\".format(log_reg_model.summary.weightedPrecision))\n",
    "print(\"\\nRecall (True Positive Rate): {}\".format(log_reg_model.summary.weightedRecall))\n",
    "print(\"\\nF-measure: {}\".format(log_reg_model.summary.weightedFMeasure()))\n",
    "# print(\"\\nROC: {}\".format(log_reg_model.summary.roc))\n",
    "print(\"\\nArea Under ROC Curve: {}\".format(log_reg_model.summary.areaUnderROC))\n",
    "# print(\"\\nArea Under Precision-Recall Curve: {}\".format(log_reg_model.summary.pr))\n",
    "\n",
    "print(\"\\nCoefficients: {}\".format(log_reg_model.coefficients))\n",
    "print(\"\\nIntercept: {}\".format(log_reg_model.intercept))"
   ]
  },
  {
   "cell_type": "code",
   "execution_count": null,
   "metadata": {},
   "outputs": [],
   "source": []
  }
 ]
}